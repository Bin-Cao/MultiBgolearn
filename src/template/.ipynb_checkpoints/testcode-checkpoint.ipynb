{
 "cells": [
  {
   "cell_type": "code",
   "execution_count": 1,
   "id": "4c043a8e-4cc5-4133-8310-3269e937f264",
   "metadata": {},
   "outputs": [],
   "source": [
    "import sys\n",
    "import os\n",
    "package_path = os.path.abspath('C:\\GitHub\\MultiBgolearn\\src')\n",
    "sys.path.append(package_path)"
   ]
  },
  {
   "cell_type": "code",
   "execution_count": 2,
   "id": "83d62e59-2ac0-4877-9eeb-b88601548b5b",
   "metadata": {},
   "outputs": [
    {
     "name": "stdout",
     "output_type": "stream",
     "text": [
      " __  __         _  _    _          ___   _        _      \n",
      "|  \\/  | _   _ | || |_ (_)        / _ \\ | |__    (_) ___ \n",
      "| |\\/| || | | || || __|| | _____ | | | || '_ \\   | |/ __|\n",
      "| |  | || |_| || || |_ | ||_____|| |_| || |_) |  | |\\__ \\\n",
      "|_|  |_| \\__,_||_| \\__||_|        \\___/ |_.__/  _/ ||___/\n",
      "                                               |__/      \n",
      "\n",
      "MultiBgolearn, Bin CAO, HKUST(GZ)\n",
      "URL : https://github.com/Bin-Cao/MultiBgolearn\n",
      "Executed on : 2024-09-15 19:30:57  | Have a great day.\n",
      "================================================================================\n"
     ]
    }
   ],
   "source": [
    "from MultiBgolearn import bgo"
   ]
  },
  {
   "cell_type": "code",
   "execution_count": 4,
   "id": "93e96393-bc32-43ae-bbd7-1ca19eb9a522",
   "metadata": {
    "scrolled": true
   },
   "outputs": [
    {
     "name": "stdout",
     "output_type": "stream",
     "text": [
      "Model RandomForest is applied as an available model\n",
      "The next recommended data by method 'UCB' is: [95.4  1.5  1.5  0.1]\n"
     ]
    },
    {
     "data": {
      "text/plain": [
       "(array([95.4,  1.5,  1.5,  0.1]),\n",
       " array([[0., 0.],\n",
       "        [0., 0.],\n",
       "        [0., 0.],\n",
       "        ...,\n",
       "        [0., 0.],\n",
       "        [0., 0.],\n",
       "        [0., 0.]]),\n",
       " 0)"
      ]
     },
     "execution_count": 4,
     "metadata": {},
     "output_type": "execute_result"
    }
   ],
   "source": [
    "dataset = 'training_sample.csv'\n",
    "VSdataset = 'virtual_sample.xlsx'\n",
    "object_num = 2\n",
    "max_search=True\n",
    "#method='EHVI'\n",
    "#method='PI'\n",
    "method='UCB'\n",
    "bootstrap=5\n",
    "assign_model = 'RandomForest'\n",
    "bgo.fit(dataset=dataset,VSdataset=VSdataset, assign_model=assign_model,object_num=object_num,max_search=max_search,method=method,bootstrap=bootstrap)"
   ]
  },
  {
   "cell_type": "code",
   "execution_count": null,
   "id": "b22940c7-e3f0-40ec-80d8-608fb496c96f",
   "metadata": {},
   "outputs": [],
   "source": []
  },
  {
   "cell_type": "code",
   "execution_count": null,
   "id": "1bfd67c2-f3a5-4a50-b818-fca870730163",
   "metadata": {},
   "outputs": [],
   "source": []
  }
 ],
 "metadata": {
  "kernelspec": {
   "display_name": "Python 3 (ipykernel)",
   "language": "python",
   "name": "python3"
  },
  "language_info": {
   "codemirror_mode": {
    "name": "ipython",
    "version": 3
   },
   "file_extension": ".py",
   "mimetype": "text/x-python",
   "name": "python",
   "nbconvert_exporter": "python",
   "pygments_lexer": "ipython3",
   "version": "3.11.7"
  }
 },
 "nbformat": 4,
 "nbformat_minor": 5
}
